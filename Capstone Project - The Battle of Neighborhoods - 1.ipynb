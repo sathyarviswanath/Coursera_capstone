{
    "nbformat_minor": 1, 
    "cells": [
        {
            "source": "# **CAPSTONE PROJECT - THE BATTLE OF NEIGHBORHOODS - WEEK 1**\n************", 
            "cell_type": "markdown", 
            "metadata": {
                "collapsed": true
            }
        }, 
        {
            "source": "### PROJECT DESCRIPTION\n--------------------------\n   In Module 3, we explored New York City and the city of Toronto and segmented and clustered their neighborhoods. Both cities are very diverse and are the financial capitals of their respective countries. One of the ideas would be to compare the neighborhoods of the two cities and determine how similar or dissimilar they are.\n\nAnd the most important thing is who would be interested in my discussion problem. The answers are the investors who wants to open a restaurant, construct a school or start a company and they want to rent or buy a property estate. The purpose of this project is to help them better understand the Geographical advantages of different districts so that they can have a best choice of all kinds of investments. In addition, the factors on other advantages and disadvantages are considered.", 
            "cell_type": "markdown", 
            "metadata": {}
        }, 
        {
            "source": "### DISCUSSION OF THE BACKGROUND\n***\nTo make good use of the FOURSQUARE API for fetching location data, the labs done for New York / Toronto segmented and clustered neighborhoods might have given good ideas for proceedind further on the problem.\n\nWe would highly leverage the FOURSQUARE API location data to solve or execute the problem. Data science problems as given will always target an audience and are meant to help a group of stakeholders / business to solve a problem, so making sure to describe the audience and their confusions as well.\n\nFrom the results on ___New York, NY, USA___ and ___Toronto, ON, Canada___ the lab especially has given some most common venues in each district. The data set is New York City Neighborhood Names. After transforming the data to Json files, it is easy to use Pandas to transform them into DataFrame. Then select the required data columns to appear and get the information we want. Importing Geopy.geocoders library will be used to get the latitude and longitude values of the locations. With the locations it can able to create map and we will have a direct understanding of the neighborhoods and the purposed areas. \nThe Folium library is mainly used to show maps on different requirements , highlighting the different areas with different rainbow colors to show the differene.\n\nFinally, different analysis on New York and Toronto will give us the related better data. With that we could able to guide or suggest our business/stakeholders a perfect place to start a restaurant.", 
            "cell_type": "markdown", 
            "metadata": {}
        }, 
        {
            "source": "", 
            "cell_type": "code", 
            "metadata": {}, 
            "outputs": [], 
            "execution_count": null
        }
    ], 
    "metadata": {
        "kernelspec": {
            "display_name": "Python 3.5", 
            "name": "python3", 
            "language": "python"
        }, 
        "language_info": {
            "mimetype": "text/x-python", 
            "nbconvert_exporter": "python", 
            "version": "3.5.5", 
            "name": "python", 
            "pygments_lexer": "ipython3", 
            "file_extension": ".py", 
            "codemirror_mode": {
                "version": 3, 
                "name": "ipython"
            }
        }
    }, 
    "nbformat": 4
}