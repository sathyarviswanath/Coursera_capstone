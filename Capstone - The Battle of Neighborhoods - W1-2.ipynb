{
    "nbformat_minor": 1, 
    "cells": [
        {
            "source": "# CAPSTONE PROJECT - THE BATTLE OF NEIGHBORHOODS - WEEK 1\n---", 
            "cell_type": "markdown", 
            "metadata": {
                "collapsed": true
            }
        }, 
        {
            "source": "### PROJECT DESCRIPTION\n***\nIn Module 3, we explored New York City and the city of Toronto and segmented and clustered their neighborhoods. Both cities are very diverse and are the financial capitals of their respective countries. One of the ideas would be to compare the neighborhoods of the two cities and determine how similar or dissimilar they are.\n\nAnd the most important thing is who would be interested in my discussion problem. The answers are the investors who wants to open a restaurant, construct a school or start a company and they want to rent or buy a property estate. The purpose of this project is to help them better understand the Geographical advantages of different districts so that they can have a best choice of all kinds of investments. In addition, the factors on other advantages and disadvantages are considered.", 
            "cell_type": "markdown", 
            "metadata": {}
        }, 
        {
            "source": "\n### DISCUSSION OF THE BACKGROUND\n---\nTo make good use of the _FOURSQUARE API_ for fetching location data, the labs done for New York / Toronto segmented and clustered neighborhoods might have given good ideas for proceedind further on the problem.\n\nWe would highly leverage the _FOURSQUARE API_ location data to solve or execute the problem. Data science problems as given will always target an audience and are meant to help a group of stakeholders / business to solve a problem, so making sure to describe the audience and their confusions as well.\n\nFrom the results on ___New York, NY, USA___ and ___Toronto, ON, Canada___ the lab especially has given some most common venues in each district. The data set is New York City Neighborhood Names. After transforming the data to Json files, it is easy to use Pandas to transform them into DataFrame. Then select the required data columns to appear and get the information we want. Importing Geopy.geocoders library will be used to get the latitude and longitude values of the locations. With the locations it can able to create map and we will have a direct understanding of the neighborhoods and the purposed areas. The Folium library is mainly used to show maps on different requirements , highlighting the different areas with different rainbow colors to show the differene.\n\nFinally, different analysis on New York and Toronto will give us the related better data. With that we could able to guide or suggest our business/stakeholders a perfect place to start a restaurant.", 
            "cell_type": "markdown", 
            "metadata": {}
        }, 
        {
            "source": "### DATA WILL BE USED FOR PROCESSING AS FOLLOWS\n---", 
            "cell_type": "markdown", 
            "metadata": {}
        }, 
        {
            "source": "import numpy as np # library to handle data in a vectorized manner\n\nimport pandas as pd # library for data analsysis\npd.set_option('display.max_columns', None)\npd.set_option('display.max_rows', None)\n\nimport json # library to handle JSON files\n\n!conda install -c conda-forge geopy --yes # uncomment this line if you haven't completed the Foursquare API lab\nfrom geopy.geocoders import Nominatim # convert an address into latitude and longitude values\n\nimport requests # library to handle requests\nfrom pandas.io.json import json_normalize # tranform JSON file into a pandas dataframe\n\n# Matplotlib and associated plotting modules\nimport matplotlib.cm as cm\nimport matplotlib.colors as colors\n\n# import k-means from clustering stage\nfrom sklearn.cluster import KMeans\n\n!conda install -c conda-forge folium=0.5.0 --yes # uncomment this line if you haven't completed the Foursquare API lab\nimport folium # map rendering library\n\nprint('Libraries imported.')", 
            "cell_type": "code", 
            "metadata": {}, 
            "outputs": [], 
            "execution_count": null
        }, 
        {
            "source": "!wget -q -O 'newyork_data.json' https://ibm.box.com/shared/static/fbpwbovar7lf8p5sgddm06cgipa2rxpe.json\nprint('Data downloaded!')", 
            "cell_type": "code", 
            "metadata": {}, 
            "outputs": [], 
            "execution_count": null
        }, 
        {
            "source": "with open('newyork_data.json') as json_data:\n    newyork_data = json.load(json_data)", 
            "cell_type": "code", 
            "metadata": {}, 
            "outputs": [], 
            "execution_count": null
        }, 
        {
            "source": "from geopy.geocoders import Nominatim\naddress = 'Toronto, Canada'\n\ngeolocator = Nominatim(user_agent='capstone_project')\nlocation = geolocator.geocode(address)\nlatitude = location.latitude\nlongitude = location.longitude\nprint('The geograpical coordinate of Toronto are {}, {}.'.format(latitude, longitude))", 
            "cell_type": "code", 
            "metadata": {}, 
            "outputs": [], 
            "execution_count": null
        }, 
        {
            "source": "### DATA DESCRIPTION\n---\n\nThe above code found on the 1st Cell are the packages have to be imported prior starting so that would be useful while processing the data.\n\nWe could able to get the location data from the wikipedia page or from a JSON file if it is available.\n\nOnce after getting the postal codes from different sources, we will be using geopy.geocoders to import the latitude and longitude of a partiular location.\nThe location parameters will then be merged with the existing postal codes data using the joins operation.\n\nThe location data then will produce the map representation using _Folium maps_. The _Foursquare API_ will then be used to gather the neighboorhood venues from the location values.once the values have been received from it, will be processing again the data in the format which we want.\n\nOnce again we merge the data with the data received from Foursquare API and will produce the Folium map depends on the various factors which we have taken in to consideration.\n\n**That concludes the project by saying which area would be suitable for a business/stakeholder to start a restaurant.**", 
            "cell_type": "markdown", 
            "metadata": {}
        }, 
        {
            "source": "", 
            "cell_type": "code", 
            "metadata": {}, 
            "outputs": [], 
            "execution_count": null
        }
    ], 
    "metadata": {
        "kernelspec": {
            "display_name": "Python 3.5", 
            "name": "python3", 
            "language": "python"
        }, 
        "language_info": {
            "mimetype": "text/x-python", 
            "nbconvert_exporter": "python", 
            "version": "3.5.5", 
            "name": "python", 
            "pygments_lexer": "ipython3", 
            "file_extension": ".py", 
            "codemirror_mode": {
                "version": 3, 
                "name": "ipython"
            }
        }
    }, 
    "nbformat": 4
}