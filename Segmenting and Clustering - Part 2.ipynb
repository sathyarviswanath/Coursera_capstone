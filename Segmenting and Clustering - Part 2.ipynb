{
    "nbformat_minor": 1, 
    "cells": [
        {
            "source": "from bs4 import BeautifulSoup\nimport requests\nimport pandas as pd", 
            "cell_type": "code", 
            "metadata": {}, 
            "outputs": [], 
            "execution_count": 1
        }, 
        {
            "source": "url = \"https://en.wikipedia.org/wiki/List_of_postal_codes_of_Canada:_M\"\nsource = requests.get(url).text\nCanada_data = BeautifulSoup(source, 'lxml')", 
            "cell_type": "code", 
            "metadata": {}, 
            "outputs": [], 
            "execution_count": 6
        }, 
        {
            "source": "column_names = ['Postalcode','Borough','Neighborhood']\ntoronto = pd.DataFrame(columns = column_names)\n\n# loop through to find postcode, borough, neighborhood \ncontent = Canada_data.find('div', class_='mw-parser-output')\ntable = content.table.tbody\npostcode = 0\nborough = 0\nneighborhood = 0\n\nfor tr in table.find_all('tr'):\n    i = 0\n    for td in tr.find_all('td'):\n        if i == 0:\n            postcode = td.text\n            i = i + 1\n        elif i == 1:\n            borough = td.text\n            i = i + 1\n        elif i == 2: \n            neighborhood = td.text.strip('\\n').replace(']','')\n    toronto = toronto.append({'Postalcode': postcode,'Borough': borough,'Neighborhood': neighborhood},ignore_index=True)\n\n# clean dataframe \ntoronto = toronto[toronto.Borough!='Not assigned']\ntoronto = toronto[toronto.Borough!= 0]\ntoronto.reset_index(drop = True, inplace = True)\ni = 0\nfor i in range(0,toronto.shape[0]):\n    if toronto.iloc[i][2] == 'Not assigned':\n        toronto.iloc[i][2] = toronto.iloc[i][1]\n        i = i+1\n                                 \ndf = toronto.groupby(['Postalcode','Borough'])['Neighborhood'].apply(', '.join).reset_index()", 
            "cell_type": "code", 
            "metadata": {}, 
            "outputs": [], 
            "execution_count": 7
        }, 
        {
            "source": "!wget -O GeoSpatialData.csv http://cocl.us/Geospatial_data", 
            "cell_type": "code", 
            "metadata": {}, 
            "outputs": [
                {
                    "output_type": "stream", 
                    "name": "stdout", 
                    "text": "--2019-03-28 16:43:28--  http://cocl.us/Geospatial_data\nResolving cocl.us (cocl.us)... 159.8.72.228\nConnecting to cocl.us (cocl.us)|159.8.72.228|:80... connected.\nHTTP request sent, awaiting response... 301 Moved Permanently\nLocation: https://cocl.us/Geospatial_data [following]\n--2019-03-28 16:43:29--  https://cocl.us/Geospatial_data\nConnecting to cocl.us (cocl.us)|159.8.72.228|:443... connected.\nHTTP request sent, awaiting response... 301 Moved Permanently\nLocation: https://ibm.box.com/shared/static/9afzr83pps4pwf2smjjcf1y5mvgb18rr.csv [following]\n--2019-03-28 16:43:29--  https://ibm.box.com/shared/static/9afzr83pps4pwf2smjjcf1y5mvgb18rr.csv\nResolving ibm.box.com (ibm.box.com)... 185.235.236.197\nConnecting to ibm.box.com (ibm.box.com)|185.235.236.197|:443... connected.\nHTTP request sent, awaiting response... 301 Moved Permanently\nLocation: /public/static/9afzr83pps4pwf2smjjcf1y5mvgb18rr.csv [following]\n--2019-03-28 16:43:29--  https://ibm.box.com/public/static/9afzr83pps4pwf2smjjcf1y5mvgb18rr.csv\nReusing existing connection to ibm.box.com:443.\nHTTP request sent, awaiting response... 301 Moved Permanently\nLocation: https://ibm.ent.box.com/public/static/9afzr83pps4pwf2smjjcf1y5mvgb18rr.csv [following]\n--2019-03-28 16:43:29--  https://ibm.ent.box.com/public/static/9afzr83pps4pwf2smjjcf1y5mvgb18rr.csv\nResolving ibm.ent.box.com (ibm.ent.box.com)... 185.235.236.211\nConnecting to ibm.ent.box.com (ibm.ent.box.com)|185.235.236.211|:443... connected.\nHTTP request sent, awaiting response... 302 Found\nLocation: https://public.boxcloud.com/d/1/b1!HZh6Qe7olGrqRw8pukrjln4pSCxl8yon1k1qzwoykl0bymOr8UGOjRJl-VG7qMrnPjEw2KDmwjLxByze7v3-Z4qRptPvYXaVe7lrwBPK-Rk7cPxHfBavin0aB4M3a1PvSIGWKi4q5opyueVQbB6ji_CU3qcg7DRkl9FykkRT6K7---KtuWG6fS2x9mu-rpWLIYfxrDlDGPWMYMvQKh2Nt34rthaUMENAG4bGoQ3WgHo9wANVmyHa-f1GVTMRP-KXGqd7XU8Hz0XPdOExvRpoKj1uTwoZ9p3cK0tnyt-Wp62kCnsC0UeBwMUt_82_4dYtqC2-SC0b_MLA1L8RAarrJ8SMpn92IgDaU48GeiC1jv9yFARmMzPIxuIjWPEM1Y94p0rDnaL6XkYCLk0_-7m9HJeIVN8KwBroWFaYuT2vAR4TMhKWwBZwsL0A9iHrk1CRyBP7QVawZn1SA5OWyaPGs2FrEk-KlepvXkefjb8fJWq9QsnJZjFQzIhvziJFgcRXQpCokZ7fKUIbPRzkCkNZPIuj2bGoLCYLKEREnHi_a8hGQubvEdhlEvaUIkQ46nlfX4yY3LZ4zOdY36g0mODgAW9mEii_38OIPaE0PDZeqWqCzzuaRMG_khH_yPOD6LcZmwV2ZlJJwjIt8LVy1eEPAaOiNsFjQfbe11ZHnyMaVpyY9gJnqRWtB0KfDF0t1vPhQvPZt6Z4rx-vXT-IJzdWUStuJAd2muVBTwWGvAZX1gFlvxhrdAjEyIfUN1M9K5iBJNul2Za4JA6CGYvy3E0w0j_qBKiN2ZjgnqQhHvdVIoYquhTKn__N9imWcKGT41hMs6hFEepIlhDwULW3NaFZPcpyyYfueSB09AnPgvuqfhvJgt03J_SnlyXeK9kLeSbM1LCcqauGoHysa9PLXaoyHMq6ZFu7UMt2pegmife9yJWAVT9P0uQp7PisZ_o8bkP2nDK7gT9QGL3rMhyKlvLZY0oUEU5-2N_9FojtBns2wdcd-PWlhu7DK7b42xL-JT9Uv_Tk-zBmCvGeWqGTcs8crXPuVL0BNhqovPpGCN_TM3rZ8pSZtW-Y2fkQgekss7cu2yo_sOgghUxJLmnywy4_uzOmFe0Qm9Yu-maO39PTM5yS3G229lCro1buZeGEF2wLkLuaB_-6unKR2v65bc0sTbld9OwP5pym-ZQILpUs67gXsJWhQRuMI47sNF06jIRLb8rhAkQ4Fs5zRDNXVXgysXDOccKmtEZVCjy8hwUcbjyomlbWpKkqNfumzUfARlqEzWrTkbrGu91v_QhEkTi9XueVEggs5Y-ANGarUcJaZyFkfOAf7uZC-PDco8oaJXDqsCQwwrweZxyaW645kovaxgGMkslmp0POEm_KkGcEBoFcbwtYoMD8QpwtmeLEoA../download [following]\n--2019-03-28 16:43:32--  https://public.boxcloud.com/d/1/b1!HZh6Qe7olGrqRw8pukrjln4pSCxl8yon1k1qzwoykl0bymOr8UGOjRJl-VG7qMrnPjEw2KDmwjLxByze7v3-Z4qRptPvYXaVe7lrwBPK-Rk7cPxHfBavin0aB4M3a1PvSIGWKi4q5opyueVQbB6ji_CU3qcg7DRkl9FykkRT6K7---KtuWG6fS2x9mu-rpWLIYfxrDlDGPWMYMvQKh2Nt34rthaUMENAG4bGoQ3WgHo9wANVmyHa-f1GVTMRP-KXGqd7XU8Hz0XPdOExvRpoKj1uTwoZ9p3cK0tnyt-Wp62kCnsC0UeBwMUt_82_4dYtqC2-SC0b_MLA1L8RAarrJ8SMpn92IgDaU48GeiC1jv9yFARmMzPIxuIjWPEM1Y94p0rDnaL6XkYCLk0_-7m9HJeIVN8KwBroWFaYuT2vAR4TMhKWwBZwsL0A9iHrk1CRyBP7QVawZn1SA5OWyaPGs2FrEk-KlepvXkefjb8fJWq9QsnJZjFQzIhvziJFgcRXQpCokZ7fKUIbPRzkCkNZPIuj2bGoLCYLKEREnHi_a8hGQubvEdhlEvaUIkQ46nlfX4yY3LZ4zOdY36g0mODgAW9mEii_38OIPaE0PDZeqWqCzzuaRMG_khH_yPOD6LcZmwV2ZlJJwjIt8LVy1eEPAaOiNsFjQfbe11ZHnyMaVpyY9gJnqRWtB0KfDF0t1vPhQvPZt6Z4rx-vXT-IJzdWUStuJAd2muVBTwWGvAZX1gFlvxhrdAjEyIfUN1M9K5iBJNul2Za4JA6CGYvy3E0w0j_qBKiN2ZjgnqQhHvdVIoYquhTKn__N9imWcKGT41hMs6hFEepIlhDwULW3NaFZPcpyyYfueSB09AnPgvuqfhvJgt03J_SnlyXeK9kLeSbM1LCcqauGoHysa9PLXaoyHMq6ZFu7UMt2pegmife9yJWAVT9P0uQp7PisZ_o8bkP2nDK7gT9QGL3rMhyKlvLZY0oUEU5-2N_9FojtBns2wdcd-PWlhu7DK7b42xL-JT9Uv_Tk-zBmCvGeWqGTcs8crXPuVL0BNhqovPpGCN_TM3rZ8pSZtW-Y2fkQgekss7cu2yo_sOgghUxJLmnywy4_uzOmFe0Qm9Yu-maO39PTM5yS3G229lCro1buZeGEF2wLkLuaB_-6unKR2v65bc0sTbld9OwP5pym-ZQILpUs67gXsJWhQRuMI47sNF06jIRLb8rhAkQ4Fs5zRDNXVXgysXDOccKmtEZVCjy8hwUcbjyomlbWpKkqNfumzUfARlqEzWrTkbrGu91v_QhEkTi9XueVEggs5Y-ANGarUcJaZyFkfOAf7uZC-PDco8oaJXDqsCQwwrweZxyaW645kovaxgGMkslmp0POEm_KkGcEBoFcbwtYoMD8QpwtmeLEoA../download\nResolving public.boxcloud.com (public.boxcloud.com)... 185.235.236.200\nConnecting to public.boxcloud.com (public.boxcloud.com)|185.235.236.200|:443... connected.\nHTTP request sent, awaiting response... 200 OK\nLength: 2891 (2.8K) [text/csv]\nSaving to: \u2018GeoSpatialData.csv\u2019\n\n100%[======================================>] 2,891       --.-K/s   in 0s      \n\n2019-03-28 16:43:32 (150 MB/s) - \u2018GeoSpatialData.csv\u2019 saved [2891/2891]\n\n"
                }
            ], 
            "execution_count": 9
        }, 
        {
            "source": "GSD = pd.read_csv(\"GeoSpatialData.csv\")", 
            "cell_type": "code", 
            "metadata": {}, 
            "outputs": [], 
            "execution_count": 10
        }, 
        {
            "source": "GSD.columns = ['Postalcode', 'Latitude', 'Longitude']\ndf = pd.merge(GSD, df, on='Postalcode')", 
            "cell_type": "code", 
            "metadata": {}, 
            "outputs": [], 
            "execution_count": 11
        }, 
        {
            "source": "\ndf = df[['Postalcode', 'Borough', 'Neighborhood', 'Latitude', 'Longitude']]", 
            "cell_type": "code", 
            "metadata": {}, 
            "outputs": [], 
            "execution_count": 12
        }, 
        {
            "source": "df.head()", 
            "cell_type": "code", 
            "metadata": {}, 
            "outputs": [
                {
                    "output_type": "execute_result", 
                    "data": {
                        "text/html": "<div>\n<style scoped>\n    .dataframe tbody tr th:only-of-type {\n        vertical-align: middle;\n    }\n\n    .dataframe tbody tr th {\n        vertical-align: top;\n    }\n\n    .dataframe thead th {\n        text-align: right;\n    }\n</style>\n<table border=\"1\" class=\"dataframe\">\n  <thead>\n    <tr style=\"text-align: right;\">\n      <th></th>\n      <th>Postalcode</th>\n      <th>Borough</th>\n      <th>Neighborhood</th>\n      <th>Latitude</th>\n      <th>Longitude</th>\n    </tr>\n  </thead>\n  <tbody>\n    <tr>\n      <th>0</th>\n      <td>M1B</td>\n      <td>Scarborough</td>\n      <td>Rouge, Malvern</td>\n      <td>43.806686</td>\n      <td>-79.194353</td>\n    </tr>\n    <tr>\n      <th>1</th>\n      <td>M1C</td>\n      <td>Scarborough</td>\n      <td>Highland Creek, Rouge Hill, Port Union</td>\n      <td>43.784535</td>\n      <td>-79.160497</td>\n    </tr>\n    <tr>\n      <th>2</th>\n      <td>M1E</td>\n      <td>Scarborough</td>\n      <td>Guildwood, Morningside, West Hill</td>\n      <td>43.763573</td>\n      <td>-79.188711</td>\n    </tr>\n    <tr>\n      <th>3</th>\n      <td>M1G</td>\n      <td>Scarborough</td>\n      <td>Woburn</td>\n      <td>43.770992</td>\n      <td>-79.216917</td>\n    </tr>\n    <tr>\n      <th>4</th>\n      <td>M1H</td>\n      <td>Scarborough</td>\n      <td>Cedarbrae</td>\n      <td>43.773136</td>\n      <td>-79.239476</td>\n    </tr>\n  </tbody>\n</table>\n</div>", 
                        "text/plain": "  Postalcode      Borough                            Neighborhood   Latitude  \\\n0        M1B  Scarborough                          Rouge, Malvern  43.806686   \n1        M1C  Scarborough  Highland Creek, Rouge Hill, Port Union  43.784535   \n2        M1E  Scarborough       Guildwood, Morningside, West Hill  43.763573   \n3        M1G  Scarborough                                  Woburn  43.770992   \n4        M1H  Scarborough                               Cedarbrae  43.773136   \n\n   Longitude  \n0 -79.194353  \n1 -79.160497  \n2 -79.188711  \n3 -79.216917  \n4 -79.239476  "
                    }, 
                    "execution_count": 13, 
                    "metadata": {}
                }
            ], 
            "execution_count": 13
        }, 
        {
            "source": "print('The dataframe has {} boroughs and {} neighborhoods.'.format(\n        len(df['Borough']),\n        df.shape[0]\n    )\n)", 
            "cell_type": "code", 
            "metadata": {}, 
            "outputs": [
                {
                    "output_type": "stream", 
                    "name": "stdout", 
                    "text": "The dataframe has 103 boroughs and 103 neighborhoods.\n"
                }
            ], 
            "execution_count": 14
        }, 
        {
            "source": "", 
            "cell_type": "code", 
            "metadata": {}, 
            "outputs": [], 
            "execution_count": null
        }
    ], 
    "metadata": {
        "kernelspec": {
            "display_name": "Python 3.5", 
            "name": "python3", 
            "language": "python"
        }, 
        "language_info": {
            "mimetype": "text/x-python", 
            "nbconvert_exporter": "python", 
            "version": "3.5.5", 
            "name": "python", 
            "file_extension": ".py", 
            "pygments_lexer": "ipython3", 
            "codemirror_mode": {
                "version": 3, 
                "name": "ipython"
            }
        }
    }, 
    "nbformat": 4
}